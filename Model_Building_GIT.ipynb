{
 "cells": [
  {
   "cell_type": "markdown",
   "id": "cbdc4882",
   "metadata": {},
   "source": [
    "### * Import required libraries for model building"
   ]
  },
  {
   "cell_type": "code",
   "execution_count": 1,
   "id": "0e42221d-5564-43de-8393-9c5d4c559163",
   "metadata": {},
   "outputs": [],
   "source": [
    "import numpy as np\n",
    "import pandas as pd\n",
    "import matplotlib.pyplot as plt\n",
    "import re\n",
    "from sklearn.neighbors import KNeighborsClassifier\n",
    "from sklearn.tree import DecisionTreeClassifier\n",
    "from sklearn.linear_model import LogisticRegression\n",
    "from sklearn.naive_bayes import BernoulliNB, GaussianNB\n",
    "# from sklearn.svm import SVC\n",
    "from sklearn.ensemble import RandomForestClassifier\n",
    "from lightgbm import LGBMClassifier\n",
    "from xgboost import XGBClassifier\n",
    "from sklearn.metrics import classification_report\n",
    "from sklearn.metrics import confusion_matrix, ConfusionMatrixDisplay\n",
    "import statsmodels.api as sm\n",
    "\n",
    "import warnings\n",
    "warnings.filterwarnings(\"ignore\")"
   ]
  },
  {
   "cell_type": "code",
   "execution_count": 2,
   "id": "6b53a40b-dfd4-4438-9b75-38e8072868c5",
   "metadata": {},
   "outputs": [],
   "source": [
    "def DisplayConfusionMatrix(actual, prediction):\n",
    "    cm = confusion_matrix(actual, prediction)\n",
    "    cm_dspl = ConfusionMatrixDisplay(confusion_matrix=cm)\n",
    "    cm_dspl.plot(cmap='YlGnBu')\n",
    "    plt.title('Confusion Matrix')\n",
    "    plt.show()"
   ]
  },
  {
   "cell_type": "markdown",
   "id": "b1136553",
   "metadata": {},
   "source": [
    "### * Import the test, train split data"
   ]
  },
  {
   "cell_type": "code",
   "execution_count": 3,
   "id": "8e5c332a-f924-4dc7-a9fc-b919ff6b89d5",
   "metadata": {},
   "outputs": [
    {
     "data": {
      "text/plain": [
       "((228910, 165), (97828, 165), (228910, 1), (97828, 1))"
      ]
     },
     "execution_count": 3,
     "metadata": {},
     "output_type": "execute_result"
    }
   ],
   "source": [
    "xtrain = pd.read_csv('xtrain.csv')\n",
    "xtest = pd.read_csv('xtest.csv')\n",
    "ytrain = pd.read_csv('ytrain.csv')\n",
    "ytest = pd.read_csv('ytest.csv')\n",
    "xtrain.shape, xtest.shape,  ytrain.shape, ytest.shape"
   ]
  },
  {
   "cell_type": "code",
   "execution_count": 4,
   "id": "65362ecd-283f-4021-ae86-f3377f7e848e",
   "metadata": {},
   "outputs": [],
   "source": [
    "xtrain = xtrain.rename(columns=lambda x: re.sub('[^A-Za-z0-9_]+', '', x))\n",
    "xtest = xtest.rename(columns=lambda x: re.sub('[^A-Za-z0-9_]+', '', x))\n",
    "y_train = np.array(ytrain.DEP_DEL15)\n",
    "y_test = np.array(ytest.DEP_DEL15)"
   ]
  },
  {
   "cell_type": "markdown",
   "id": "f619c138",
   "metadata": {},
   "source": [
    "### * Base model building"
   ]
  },
  {
   "cell_type": "code",
   "execution_count": 5,
   "id": "c4b6afce-66e4-42cc-8ba8-25fd6daea5e1",
   "metadata": {},
   "outputs": [],
   "source": [
    "lr = LogisticRegression(max_iter=900)\n",
    "model = lr.fit(xtrain, y_train)\n",
    "y_pred = model.predict(xtest)"
   ]
  },
  {
   "cell_type": "code",
   "execution_count": 6,
   "id": "42d9af99-dd95-4214-9f26-d00243ed602f",
   "metadata": {},
   "outputs": [
    {
     "name": "stdout",
     "output_type": "stream",
     "text": [
      "Training accuracy 0.5028\n",
      "Testing accuracy 0.4940\n"
     ]
    }
   ],
   "source": [
    "print('Training accuracy {:.4f}'.format(model.score(xtrain, y_train)))\n",
    "print('Testing accuracy {:.4f}'.format(model.score(xtest, y_test)))"
   ]
  },
  {
   "cell_type": "code",
   "execution_count": 7,
   "id": "14ce8064-885f-44af-8ae7-ebad3b723688",
   "metadata": {},
   "outputs": [
    {
     "name": "stdout",
     "output_type": "stream",
     "text": [
      "              precision    recall  f1-score   support\n",
      "\n",
      "           0       0.49      0.49      0.49     48914\n",
      "           1       0.49      0.49      0.49     48914\n",
      "\n",
      "    accuracy                           0.49     97828\n",
      "   macro avg       0.49      0.49      0.49     97828\n",
      "weighted avg       0.49      0.49      0.49     97828\n",
      "\n"
     ]
    }
   ],
   "source": [
    "print(classification_report(y_test, y_pred))"
   ]
  },
  {
   "cell_type": "code",
   "execution_count": 8,
   "id": "75fcd6bf-0272-40f2-ba14-689b0f731aa6",
   "metadata": {},
   "outputs": [
    {
     "data": {
      "image/png": "[encoded data removed]",
      "text/plain": [
       "<Figure size 432x288 with 2 Axes>"
      ]
     },
     "metadata": {
      "needs_background": "light"
     },
     "output_type": "display_data"
    }
   ],
   "source": [
    "DisplayConfusionMatrix(y_test, y_pred)"
   ]
  },
  {
   "cell_type": "code",
   "execution_count": 9,
   "id": "6410a22e-329c-47c5-9816-176f6ed44673",
   "metadata": {},
   "outputs": [],
   "source": [
    "rf = RandomForestClassifier()\n",
    "model = rf.fit(xtrain, y_train)\n",
    "y_pred = model.predict(xtest)"
   ]
  },
  {
   "cell_type": "code",
   "execution_count": 10,
   "id": "8e56d5af-4c41-48f9-ac9b-977f7a187f4f",
   "metadata": {},
   "outputs": [
    {
     "name": "stdout",
     "output_type": "stream",
     "text": [
      "Training accuracy 1.0000\n",
      "Testing accuracy 0.8558\n"
     ]
    }
   ],
   "source": [
    "print('Training accuracy {:.4f}'.format(model.score(xtrain, y_train)))\n",
    "print('Testing accuracy {:.4f}'.format(model.score(xtest, y_test)))"
   ]
  },
  {
   "cell_type": "code",
   "execution_count": 11,
   "id": "f519d989-a0ee-4ef5-a2f1-8867392a178f",
   "metadata": {},
   "outputs": [
    {
     "name": "stdout",
     "output_type": "stream",
     "text": [
      "              precision    recall  f1-score   support\n",
      "\n",
      "           0       0.78      0.99      0.87     48914\n",
      "           1       0.99      0.72      0.83     48914\n",
      "\n",
      "    accuracy                           0.86     97828\n",
      "   macro avg       0.88      0.86      0.85     97828\n",
      "weighted avg       0.88      0.86      0.85     97828\n",
      "\n"
     ]
    }
   ],
   "source": [
    "print(classification_report(y_test, y_pred))"
   ]
  },
  {
   "cell_type": "code",
   "execution_count": 12,
   "id": "a987c477-b722-442d-8bb6-8d43d5816f96",
   "metadata": {},
   "outputs": [
    {
     "data": {
      "image/png": "[encoded data removed]",
      "text/plain": [
       "<Figure size 432x288 with 2 Axes>"
      ]
     },
     "metadata": {
      "needs_background": "light"
     },
     "output_type": "display_data"
    }
   ],
   "source": [
    "DisplayConfusionMatrix(y_test, y_pred)"
   ]
  },
  {
   "cell_type": "markdown",
   "id": "c25c67c5",
   "metadata": {},
   "source": [
    "### * Ensemble techniques"
   ]
  },
  {
   "cell_type": "code",
   "execution_count": 13,
   "id": "a1fc7d3f-682d-4a87-a454-01ba5b64fc60",
   "metadata": {},
   "outputs": [],
   "source": [
    "nb = BernoulliNB()\n",
    "model = nb.fit(xtrain, y_train)\n",
    "y_pred = model.predict(xtest)"
   ]
  },
  {
   "cell_type": "code",
   "execution_count": 14,
   "id": "31b693d3-1e31-41ab-8ecf-5d2d37db9b73",
   "metadata": {},
   "outputs": [
    {
     "name": "stdout",
     "output_type": "stream",
     "text": [
      "Training accuracy 0.8580\n",
      "Testing accuracy 0.8580\n"
     ]
    }
   ],
   "source": [
    "print('Training accuracy {:.4f}'.format(model.score(xtrain, y_train)))\n",
    "print('Testing accuracy {:.4f}'.format(model.score(xtest, y_test)))"
   ]
  },
  {
   "cell_type": "code",
   "execution_count": 15,
   "id": "0c0829b0-62eb-46a5-9959-97b0cdc4479e",
   "metadata": {},
   "outputs": [
    {
     "name": "stdout",
     "output_type": "stream",
     "text": [
      "              precision    recall  f1-score   support\n",
      "\n",
      "           0       0.81      0.94      0.87     48914\n",
      "           1       0.93      0.77      0.84     48914\n",
      "\n",
      "    accuracy                           0.86     97828\n",
      "   macro avg       0.87      0.86      0.86     97828\n",
      "weighted avg       0.87      0.86      0.86     97828\n",
      "\n"
     ]
    }
   ],
   "source": [
    "print(classification_report(y_test, y_pred))"
   ]
  },
  {
   "cell_type": "code",
   "execution_count": 16,
   "id": "332fc217-0e11-4494-a061-479e409c1780",
   "metadata": {},
   "outputs": [
    {
     "data": {
      "image/png": "[encoded data removed]",
      "text/plain": [
       "<Figure size 432x288 with 2 Axes>"
      ]
     },
     "metadata": {
      "needs_background": "light"
     },
     "output_type": "display_data"
    }
   ],
   "source": [
    "DisplayConfusionMatrix(y_test, y_pred)"
   ]
  },
  {
   "cell_type": "code",
   "execution_count": 17,
   "id": "36b344ea-cee8-470e-9128-abf1072a31c3",
   "metadata": {},
   "outputs": [],
   "source": [
    "gnb = GaussianNB()\n",
    "model = gnb.fit(xtrain, y_train)\n",
    "y_pred = model.predict(xtest)"
   ]
  },
  {
   "cell_type": "code",
   "execution_count": 18,
   "id": "b9ceb0ea-2cbe-4526-9e57-6b2d80020ef1",
   "metadata": {},
   "outputs": [
    {
     "name": "stdout",
     "output_type": "stream",
     "text": [
      "Training accuracy 0.5471\n",
      "Testing accuracy 0.5449\n"
     ]
    }
   ],
   "source": [
    "print('Training accuracy {:.4f}'.format(model.score(xtrain, y_train)))\n",
    "print('Testing accuracy {:.4f}'.format(model.score(xtest, y_test)))"
   ]
  },
  {
   "cell_type": "code",
   "execution_count": 19,
   "id": "e6307c54-973c-4de7-b6f4-71f77151cea6",
   "metadata": {},
   "outputs": [
    {
     "name": "stdout",
     "output_type": "stream",
     "text": [
      "              precision    recall  f1-score   support\n",
      "\n",
      "           0       0.57      0.36      0.44     48914\n",
      "           1       0.53      0.73      0.62     48914\n",
      "\n",
      "    accuracy                           0.54     97828\n",
      "   macro avg       0.55      0.54      0.53     97828\n",
      "weighted avg       0.55      0.54      0.53     97828\n",
      "\n"
     ]
    }
   ],
   "source": [
    "print(classification_report(y_test, y_pred))"
   ]
  },
  {
   "cell_type": "code",
   "execution_count": 20,
   "id": "c2d7e1a5-036c-448b-a3cd-a70a32b09a46",
   "metadata": {},
   "outputs": [
    {
     "data": {
      "image/png": "[encoded data removed]",
      "text/plain": [
       "<Figure size 432x288 with 2 Axes>"
      ]
     },
     "metadata": {
      "needs_background": "light"
     },
     "output_type": "display_data"
    }
   ],
   "source": [
    "DisplayConfusionMatrix(y_test, y_pred)"
   ]
  },
  {
   "cell_type": "code",
   "execution_count": 21,
   "id": "cf37b7fc-4710-4af3-b270-e6f8b26528c1",
   "metadata": {},
   "outputs": [],
   "source": [
    "kn = KNeighborsClassifier()\n",
    "model = kn.fit(xtrain, y_train)\n",
    "y_pred = model.predict(xtest)"
   ]
  },
  {
   "cell_type": "code",
   "execution_count": 22,
   "id": "2c857149-8b35-4cca-821c-7dec24f434c4",
   "metadata": {},
   "outputs": [
    {
     "name": "stdout",
     "output_type": "stream",
     "text": [
      "Training accuracy 0.8306\n",
      "Testing accuracy 0.5057\n"
     ]
    }
   ],
   "source": [
    "print('Training accuracy {:.4f}'.format(model.score(xtrain, y_train)))\n",
    "print('Testing accuracy {:.4f}'.format(model.score(xtest, y_test)))"
   ]
  },
  {
   "cell_type": "code",
   "execution_count": 23,
   "id": "567edcda-eb8d-428e-8792-49d5b2599eee",
   "metadata": {},
   "outputs": [
    {
     "name": "stdout",
     "output_type": "stream",
     "text": [
      "              precision    recall  f1-score   support\n",
      "\n",
      "           0       0.50      0.60      0.55     48914\n",
      "           1       0.51      0.42      0.46     48914\n",
      "\n",
      "    accuracy                           0.51     97828\n",
      "   macro avg       0.51      0.51      0.50     97828\n",
      "weighted avg       0.51      0.51      0.50     97828\n",
      "\n"
     ]
    }
   ],
   "source": [
    "print(classification_report(y_test, y_pred))"
   ]
  },
  {
   "cell_type": "code",
   "execution_count": 24,
   "id": "fb0d1d28-97e8-470c-bc08-822afccaaa26",
   "metadata": {
    "scrolled": false
   },
   "outputs": [
    {
     "data": {
      "image/png": "[encoded data removed]",
      "text/plain": [
       "<Figure size 432x288 with 2 Axes>"
      ]
     },
     "metadata": {
      "needs_background": "light"
     },
     "output_type": "display_data"
    }
   ],
   "source": [
    "DisplayConfusionMatrix(y_test, y_pred)"
   ]
  },
  {
   "cell_type": "code",
   "execution_count": 25,
   "id": "748e3549-8a99-44cb-9aed-28c0ccc850f4",
   "metadata": {},
   "outputs": [],
   "source": [
    "dt = DecisionTreeClassifier()\n",
    "model = dt.fit(xtrain, y_train)\n",
    "y_pred = model.predict(xtest)"
   ]
  },
  {
   "cell_type": "code",
   "execution_count": 26,
   "id": "da13f3c0-3287-4a6a-9a50-08d02403f5c7",
   "metadata": {},
   "outputs": [
    {
     "name": "stdout",
     "output_type": "stream",
     "text": [
      "Training accuracy 1.0000\n",
      "Testing accuracy 0.7609\n"
     ]
    }
   ],
   "source": [
    "print('Training accuracy {:.4f}'.format(model.score(xtrain, y_train)))\n",
    "print('Testing accuracy {:.4f}'.format(model.score(xtest, y_test)))"
   ]
  },
  {
   "cell_type": "code",
   "execution_count": 27,
   "id": "b64181e3-e03a-45d4-bc4c-e55011b586aa",
   "metadata": {},
   "outputs": [
    {
     "name": "stdout",
     "output_type": "stream",
     "text": [
      "              precision    recall  f1-score   support\n",
      "\n",
      "           0       0.76      0.77      0.76     48914\n",
      "           1       0.77      0.75      0.76     48914\n",
      "\n",
      "    accuracy                           0.76     97828\n",
      "   macro avg       0.76      0.76      0.76     97828\n",
      "weighted avg       0.76      0.76      0.76     97828\n",
      "\n"
     ]
    }
   ],
   "source": [
    "print(classification_report(y_test, y_pred))"
   ]
  },
  {
   "cell_type": "code",
   "execution_count": 28,
   "id": "61def8ce-1ebe-4963-a352-947f29cea0d3",
   "metadata": {},
   "outputs": [
    {
     "data": {
      "image/png": "[encoded data removed]",
      "text/plain": [
       "<Figure size 432x288 with 2 Axes>"
      ]
     },
     "metadata": {
      "needs_background": "light"
     },
     "output_type": "display_data"
    }
   ],
   "source": [
    "DisplayConfusionMatrix(y_test, y_pred)"
   ]
  },
  {
   "cell_type": "code",
   "execution_count": 29,
   "id": "a1602d2e-d013-4637-b69a-62e2de31b735",
   "metadata": {},
   "outputs": [],
   "source": [
    "lgbm = LGBMClassifier()\n",
    "model = lgbm.fit(xtrain, y_train)\n",
    "y_pred = model.predict(xtest)"
   ]
  },
  {
   "cell_type": "code",
   "execution_count": 30,
   "id": "391b2437-e613-4d00-ade4-17fb74ac7f17",
   "metadata": {},
   "outputs": [
    {
     "name": "stdout",
     "output_type": "stream",
     "text": [
      "Training accuracy 0.8831\n",
      "Testing accuracy 0.8808\n"
     ]
    }
   ],
   "source": [
    "print('Training accuracy {:.4f}'.format(model.score(xtrain, y_train)))\n",
    "print('Testing accuracy {:.4f}'.format(model.score(xtest, y_test)))"
   ]
  },
  {
   "cell_type": "code",
   "execution_count": 31,
   "id": "f8aa171f-ae93-4d73-a150-1b48431b102c",
   "metadata": {},
   "outputs": [
    {
     "name": "stdout",
     "output_type": "stream",
     "text": [
      "              precision    recall  f1-score   support\n",
      "\n",
      "           0       0.81      0.99      0.89     48914\n",
      "           1       0.99      0.77      0.87     48914\n",
      "\n",
      "    accuracy                           0.88     97828\n",
      "   macro avg       0.90      0.88      0.88     97828\n",
      "weighted avg       0.90      0.88      0.88     97828\n",
      "\n"
     ]
    }
   ],
   "source": [
    "print(classification_report(y_test, y_pred))"
   ]
  },
  {
   "cell_type": "code",
   "execution_count": 32,
   "id": "6bb285bb-ee81-4002-8ed9-532eef7ef172",
   "metadata": {},
   "outputs": [
    {
     "data": {
      "image/png": "[encoded data removed]",
      "text/plain": [
       "<Figure size 432x288 with 2 Axes>"
      ]
     },
     "metadata": {
      "needs_background": "light"
     },
     "output_type": "display_data"
    }
   ],
   "source": [
    "DisplayConfusionMatrix(y_test, y_pred)"
   ]
  },
  {
   "cell_type": "code",
   "execution_count": 33,
   "id": "eb845eab-b494-41b1-9a3c-c4d9c488abb6",
   "metadata": {},
   "outputs": [],
   "source": [
    "xgc = XGBClassifier()\n",
    "model = xgc.fit(xtrain, y_train)\n",
    "y_pred = model.predict(xtest)"
   ]
  },
  {
   "cell_type": "code",
   "execution_count": 34,
   "id": "28842427-79b7-4f90-8cde-163e223f7e99",
   "metadata": {},
   "outputs": [
    {
     "name": "stdout",
     "output_type": "stream",
     "text": [
      "Training accuracy 0.8860\n",
      "Testing accuracy 0.8754\n"
     ]
    }
   ],
   "source": [
    "print('Training accuracy {:.4f}'.format(model.score(xtrain, y_train)))\n",
    "print('Testing accuracy {:.4f}'.format(model.score(xtest, y_test)))"
   ]
  },
  {
   "cell_type": "code",
   "execution_count": 35,
   "id": "76f92dff-dc5c-4796-8395-bf6ce402ab52",
   "metadata": {},
   "outputs": [
    {
     "name": "stdout",
     "output_type": "stream",
     "text": [
      "              precision    recall  f1-score   support\n",
      "\n",
      "           0       0.81      0.98      0.89     48914\n",
      "           1       0.97      0.77      0.86     48914\n",
      "\n",
      "    accuracy                           0.88     97828\n",
      "   macro avg       0.89      0.88      0.87     97828\n",
      "weighted avg       0.89      0.88      0.87     97828\n",
      "\n"
     ]
    }
   ],
   "source": [
    "print(classification_report(y_test, y_pred))"
   ]
  },
  {
   "cell_type": "code",
   "execution_count": 36,
   "id": "3fbd3d8b-65c6-484e-9e79-3d0dc894674a",
   "metadata": {},
   "outputs": [
    {
     "data": {
      "image/png": "[encoded data removed]",
      "text/plain": [
       "<Figure size 432x288 with 2 Axes>"
      ]
     },
     "metadata": {
      "needs_background": "light"
     },
     "output_type": "display_data"
    }
   ],
   "source": [
    "DisplayConfusionMatrix(y_test, y_pred)"
   ]
  },
  {
   "cell_type": "markdown",
   "id": "6016f52a",
   "metadata": {},
   "source": [
    "### * From the above ensemble techniques we can infer that:\n",
    "* Logestic Regression is best fit base model\n",
    "* top 3 models from ensemble methods are \n",
    "    a) LGBM classifier\n",
    "    b)XGBoost classifier\n",
    "    c) Bernoulli Naive-Bayes Classifier"
   ]
  },
  {
   "cell_type": "code",
   "execution_count": 37,
   "id": "6656ae5c-b0ff-4344-965e-fa079b1050fc",
   "metadata": {
    "tags": []
   },
   "outputs": [
    {
     "name": "stdout",
     "output_type": "stream",
     "text": [
      "Warning: Maximum number of iterations has been exceeded.\n",
      "         Current function value: 0.406328\n",
      "         Iterations: 35\n"
     ]
    }
   ],
   "source": [
    "x1 = sm.add_constant(xtrain)\n",
    "rf = sm.Logit(y_train, x1).fit()"
   ]
  },
  {
   "cell_type": "markdown",
   "id": "19b88148",
   "metadata": {},
   "source": [
    "### * we now use P-value to determine the significant variables"
   ]
  },
  {
   "cell_type": "code",
   "execution_count": null,
   "id": "a2c03263",
   "metadata": {},
   "outputs": [],
   "source": [
    "pvalue = rf.pvalues\n",
    "pval = pd.DataFrame(pvalue)\n",
    "signi = pval[pval[0] < 0.05].index\n",
    "signi = signi[1:]\n",
    "xtrain = xtrain[signi]\n",
    "xtest = xtest[signi]"
   ]
  },
  {
   "cell_type": "code",
   "execution_count": 39,
   "id": "e5b9f0e4-d37f-4469-be7c-57833a347fcd",
   "metadata": {},
   "outputs": [
    {
     "data": {
      "text/plain": [
       "(Index(['CONCURRENT_FLIGHTS', 'NUMBER_OF_SEATS', 'AIRPORT_FLIGHTS_MONTH',\n",
       "        'AIRLINE_FLIGHTS_MONTH', 'AIRLINE_AIRPORT_FLIGHTS_MONTH',\n",
       "        'AVG_MONTHLY_PASS_AIRPORT', 'AVG_MONTHLY_PASS_AIRLINE',\n",
       "        'FLT_ATTENDANTS_PER_PASS', 'GROUND_SERV_PER_PASS', 'TMAX',\n",
       "        ...\n",
       "        'PREVIOUS_AIRPORT_REGION_texas', 'PREVIOUS_AIRPORT_REGION_uthah',\n",
       "        'PREVIOUS_AIRPORT_REGION_vermont', 'PREVIOUS_AIRPORT_REGION_virginia',\n",
       "        'PREVIOUS_AIRPORT_REGION_washington',\n",
       "        'PREVIOUS_AIRPORT_REGION_west_virginia',\n",
       "        'PREVIOUS_AIRPORT_REGION_wisconsin', 'PREVIOUS_AIRPORT_REGION_wyoming',\n",
       "        'DISTANCE_GROUP', 'SEGMENT_NUMBER'],\n",
       "       dtype='object', length=155),\n",
       " 155)"
      ]
     },
     "execution_count": 39,
     "metadata": {},
     "output_type": "execute_result"
    }
   ],
   "source": [
    "signi, len(signi)"
   ]
  },
  {
   "cell_type": "code",
   "execution_count": 40,
   "id": "834ab02e-a97e-468e-9ea5-d5eadfd65f58",
   "metadata": {
    "tags": []
   },
   "outputs": [
    {
     "name": "stdout",
     "output_type": "stream",
     "text": [
      "Warning: Maximum number of iterations has been exceeded.\n",
      "         Current function value: 0.354726\n",
      "         Iterations: 35\n"
     ]
    }
   ],
   "source": [
    "x1 = sm.add_constant(xtrain)\n",
    "rf = sm.Logit(y_train, x1).fit()"
   ]
  },
  {
   "cell_type": "code",
   "execution_count": 41,
   "id": "eaa7429e-654e-4842-8932-e44e40476140",
   "metadata": {},
   "outputs": [],
   "source": [
    "pvalue = rf.pvalues\n",
    "pval = pd.DataFrame(pvalue)\n",
    "signi = pval[pval[0] < 0.05].index\n",
    "signi = signi[1:]\n",
    "xtrain = xtrain[signi]\n",
    "xtest = xtest[signi]"
   ]
  },
  {
   "cell_type": "code",
   "execution_count": 42,
   "id": "5e3846d5-1873-46ca-bb19-48fcfdc8f907",
   "metadata": {},
   "outputs": [
    {
     "data": {
      "text/plain": [
       "(Index(['CONCURRENT_FLIGHTS', 'NUMBER_OF_SEATS', 'AIRPORT_FLIGHTS_MONTH',\n",
       "        'AIRLINE_FLIGHTS_MONTH', 'AIRLINE_AIRPORT_FLIGHTS_MONTH',\n",
       "        'AVG_MONTHLY_PASS_AIRPORT', 'AVG_MONTHLY_PASS_AIRLINE',\n",
       "        'FLT_ATTENDANTS_PER_PASS', 'GROUND_SERV_PER_PASS', 'TMAX',\n",
       "        ...\n",
       "        'PREVIOUS_AIRPORT_REGION_texas', 'PREVIOUS_AIRPORT_REGION_uthah',\n",
       "        'PREVIOUS_AIRPORT_REGION_vermont', 'PREVIOUS_AIRPORT_REGION_virginia',\n",
       "        'PREVIOUS_AIRPORT_REGION_washington',\n",
       "        'PREVIOUS_AIRPORT_REGION_west_virginia',\n",
       "        'PREVIOUS_AIRPORT_REGION_wisconsin', 'PREVIOUS_AIRPORT_REGION_wyoming',\n",
       "        'DISTANCE_GROUP', 'SEGMENT_NUMBER'],\n",
       "       dtype='object', length=155),\n",
       " 155)"
      ]
     },
     "execution_count": 42,
     "metadata": {},
     "output_type": "execute_result"
    }
   ],
   "source": [
    "signi, len(signi)"
   ]
  },
  {
   "cell_type": "code",
   "execution_count": 43,
   "id": "c716d5cd-50d0-4d24-bf7b-1ec0ada429fc",
   "metadata": {
    "tags": []
   },
   "outputs": [
    {
     "name": "stdout",
     "output_type": "stream",
     "text": [
      "Warning: Maximum number of iterations has been exceeded.\n",
      "         Current function value: 0.354726\n",
      "         Iterations: 35\n"
     ]
    }
   ],
   "source": [
    "x1 = sm.add_constant(xtrain)\n",
    "rf = sm.Logit(y_train, x1).fit()"
   ]
  },
  {
   "cell_type": "code",
   "execution_count": 44,
   "id": "3f72cf64-a7c3-4a01-a60c-edf5edfd2f1d",
   "metadata": {},
   "outputs": [],
   "source": [
    "pvalue = rf.pvalues\n",
    "pval = pd.DataFrame(pvalue)\n",
    "signi = pval[pval[0] < 0.05].index\n",
    "signi = signi[1:]\n",
    "xtrain = xtrain[signi]\n",
    "xtest = xtest[signi]"
   ]
  },
  {
   "cell_type": "code",
   "execution_count": 45,
   "id": "6aa4df03-bed9-436a-8334-4712894196fb",
   "metadata": {},
   "outputs": [
    {
     "data": {
      "text/plain": [
       "(Index(['CONCURRENT_FLIGHTS', 'NUMBER_OF_SEATS', 'AIRPORT_FLIGHTS_MONTH',\n",
       "        'AIRLINE_FLIGHTS_MONTH', 'AIRLINE_AIRPORT_FLIGHTS_MONTH',\n",
       "        'AVG_MONTHLY_PASS_AIRPORT', 'AVG_MONTHLY_PASS_AIRLINE',\n",
       "        'FLT_ATTENDANTS_PER_PASS', 'GROUND_SERV_PER_PASS', 'TMAX',\n",
       "        ...\n",
       "        'PREVIOUS_AIRPORT_REGION_texas', 'PREVIOUS_AIRPORT_REGION_uthah',\n",
       "        'PREVIOUS_AIRPORT_REGION_vermont', 'PREVIOUS_AIRPORT_REGION_virginia',\n",
       "        'PREVIOUS_AIRPORT_REGION_washington',\n",
       "        'PREVIOUS_AIRPORT_REGION_west_virginia',\n",
       "        'PREVIOUS_AIRPORT_REGION_wisconsin', 'PREVIOUS_AIRPORT_REGION_wyoming',\n",
       "        'DISTANCE_GROUP', 'SEGMENT_NUMBER'],\n",
       "       dtype='object', length=155),\n",
       " 155)"
      ]
     },
     "execution_count": 45,
     "metadata": {},
     "output_type": "execute_result"
    }
   ],
   "source": [
    "signi, len(signi)"
   ]
  },
  {
   "cell_type": "markdown",
   "id": "a309b048",
   "metadata": {},
   "source": [
    "### * We now have 155 significant variables out of 165 varibales\n",
    "### * We now use these significant variables to re build the model and check if the model is able to predict better."
   ]
  },
  {
   "cell_type": "code",
   "execution_count": 46,
   "id": "1f22579f-55d2-47dd-9f0d-bbfa9e9ead14",
   "metadata": {},
   "outputs": [],
   "source": [
    "lr = LogisticRegression(max_iter=900)\n",
    "model = lr.fit(xtrain, y_train)\n",
    "y_pred = model.predict(xtest)"
   ]
  },
  {
   "cell_type": "code",
   "execution_count": 47,
   "id": "ade095ef-6f82-495f-91ce-94648d30757a",
   "metadata": {},
   "outputs": [
    {
     "name": "stdout",
     "output_type": "stream",
     "text": [
      "Training accuracy 0.5028\n",
      "Testing accuracy 0.4940\n"
     ]
    }
   ],
   "source": [
    "print('Training accuracy {:.4f}'.format(model.score(xtrain, y_train)))\n",
    "print('Testing accuracy {:.4f}'.format(model.score(xtest, y_test)))"
   ]
  },
  {
   "cell_type": "code",
   "execution_count": 48,
   "id": "fc197133-4fad-4c10-955e-89eb6833546f",
   "metadata": {},
   "outputs": [
    {
     "name": "stdout",
     "output_type": "stream",
     "text": [
      "              precision    recall  f1-score   support\n",
      "\n",
      "           0       0.49      0.49      0.49     48914\n",
      "           1       0.49      0.49      0.49     48914\n",
      "\n",
      "    accuracy                           0.49     97828\n",
      "   macro avg       0.49      0.49      0.49     97828\n",
      "weighted avg       0.49      0.49      0.49     97828\n",
      "\n"
     ]
    }
   ],
   "source": [
    "print(classification_report(y_test, y_pred))"
   ]
  },
  {
   "cell_type": "code",
   "execution_count": 49,
   "id": "8710e048-8ac8-43b5-b5e7-ae2d042f5abf",
   "metadata": {},
   "outputs": [
    {
     "data": {
      "image/png": "[encoded data removed]",
      "text/plain": [
       "<Figure size 432x288 with 2 Axes>"
      ]
     },
     "metadata": {
      "needs_background": "light"
     },
     "output_type": "display_data"
    }
   ],
   "source": [
    "DisplayConfusionMatrix(y_test, y_pred)"
   ]
  },
  {
   "cell_type": "markdown",
   "id": "fb1d1421",
   "metadata": {},
   "source": [
    "### * Ensemble techniques"
   ]
  },
  {
   "cell_type": "code",
   "execution_count": 50,
   "id": "bc5c6e7a-ebc7-42c2-8662-372b5a054996",
   "metadata": {},
   "outputs": [],
   "source": [
    "rf = RandomForestClassifier()\n",
    "model = rf.fit(xtrain, y_train)\n",
    "y_pred = model.predict(xtest)"
   ]
  },
  {
   "cell_type": "code",
   "execution_count": 51,
   "id": "a4eaa9ec-e2ee-405e-bd99-a940fb0b28a3",
   "metadata": {},
   "outputs": [
    {
     "name": "stdout",
     "output_type": "stream",
     "text": [
      "Training accuracy 1.0000\n",
      "Testing accuracy 0.8589\n"
     ]
    }
   ],
   "source": [
    "print('Training accuracy {:.4f}'.format(model.score(xtrain, y_train)))\n",
    "print('Testing accuracy {:.4f}'.format(model.score(xtest, y_test)))"
   ]
  },
  {
   "cell_type": "code",
   "execution_count": 52,
   "id": "d6a4c560-6948-4502-8836-46b56506f2ec",
   "metadata": {},
   "outputs": [
    {
     "name": "stdout",
     "output_type": "stream",
     "text": [
      "              precision    recall  f1-score   support\n",
      "\n",
      "           0       0.78      0.99      0.88     48914\n",
      "           1       0.99      0.72      0.84     48914\n",
      "\n",
      "    accuracy                           0.86     97828\n",
      "   macro avg       0.89      0.86      0.86     97828\n",
      "weighted avg       0.89      0.86      0.86     97828\n",
      "\n"
     ]
    }
   ],
   "source": [
    "print(classification_report(y_test, y_pred))"
   ]
  },
  {
   "cell_type": "code",
   "execution_count": 53,
   "id": "48360de1-97fb-4075-b353-10e8ac9d2eae",
   "metadata": {},
   "outputs": [
    {
     "data": {
      "image/png": "[encoded data removed]",
      "text/plain": [
       "<Figure size 432x288 with 2 Axes>"
      ]
     },
     "metadata": {
      "needs_background": "light"
     },
     "output_type": "display_data"
    }
   ],
   "source": [
    "DisplayConfusionMatrix(y_test, y_pred)"
   ]
  },
  {
   "cell_type": "code",
   "execution_count": 54,
   "id": "6e626217-25ca-46a7-88a3-ac1d5c35c1ae",
   "metadata": {},
   "outputs": [],
   "source": [
    "nb = BernoulliNB()\n",
    "model = nb.fit(xtrain, y_train)\n",
    "y_pred = model.predict(xtest)"
   ]
  },
  {
   "cell_type": "code",
   "execution_count": 55,
   "id": "cd62ccdd-3652-4d1f-9678-565ab9d35e52",
   "metadata": {},
   "outputs": [
    {
     "name": "stdout",
     "output_type": "stream",
     "text": [
      "Training accuracy 0.8562\n",
      "Testing accuracy 0.8566\n"
     ]
    }
   ],
   "source": [
    "print('Training accuracy {:.4f}'.format(model.score(xtrain, y_train)))\n",
    "print('Testing accuracy {:.4f}'.format(model.score(xtest, y_test)))"
   ]
  },
  {
   "cell_type": "code",
   "execution_count": 56,
   "id": "9d646007-6410-40e9-b34e-0ccc13e0dcf9",
   "metadata": {},
   "outputs": [
    {
     "name": "stdout",
     "output_type": "stream",
     "text": [
      "              precision    recall  f1-score   support\n",
      "\n",
      "           0       0.81      0.94      0.87     48914\n",
      "           1       0.93      0.77      0.84     48914\n",
      "\n",
      "    accuracy                           0.86     97828\n",
      "   macro avg       0.87      0.86      0.86     97828\n",
      "weighted avg       0.87      0.86      0.86     97828\n",
      "\n"
     ]
    }
   ],
   "source": [
    "print(classification_report(y_test, y_pred))"
   ]
  },
  {
   "cell_type": "code",
   "execution_count": 57,
   "id": "85c5768d-b965-4153-86e2-3101c0764eaa",
   "metadata": {},
   "outputs": [
    {
     "data": {
      "image/png": "[encoded data removed]",
      "text/plain": [
       "<Figure size 432x288 with 2 Axes>"
      ]
     },
     "metadata": {
      "needs_background": "light"
     },
     "output_type": "display_data"
    }
   ],
   "source": [
    "DisplayConfusionMatrix(y_test, y_pred)"
   ]
  },
  {
   "cell_type": "code",
   "execution_count": 58,
   "id": "e4a9e7c2-4117-4f03-bc0e-f3089e67c7a5",
   "metadata": {},
   "outputs": [],
   "source": [
    "gnb = GaussianNB()\n",
    "model = gnb.fit(xtrain, y_train)\n",
    "y_pred = model.predict(xtest)"
   ]
  },
  {
   "cell_type": "code",
   "execution_count": 59,
   "id": "940d72f9-f8ee-4ace-aabc-7333f7177481",
   "metadata": {},
   "outputs": [
    {
     "name": "stdout",
     "output_type": "stream",
     "text": [
      "Training accuracy 0.5472\n",
      "Testing accuracy 0.5451\n"
     ]
    }
   ],
   "source": [
    "print('Training accuracy {:.4f}'.format(model.score(xtrain, y_train)))\n",
    "print('Testing accuracy {:.4f}'.format(model.score(xtest, y_test)))"
   ]
  },
  {
   "cell_type": "code",
   "execution_count": 60,
   "id": "568b48be-f43d-4752-99c0-50a295eb4a96",
   "metadata": {},
   "outputs": [
    {
     "name": "stdout",
     "output_type": "stream",
     "text": [
      "              precision    recall  f1-score   support\n",
      "\n",
      "           0       0.57      0.36      0.44     48914\n",
      "           1       0.53      0.73      0.62     48914\n",
      "\n",
      "    accuracy                           0.55     97828\n",
      "   macro avg       0.55      0.55      0.53     97828\n",
      "weighted avg       0.55      0.55      0.53     97828\n",
      "\n"
     ]
    }
   ],
   "source": [
    "print(classification_report(y_test, y_pred))"
   ]
  },
  {
   "cell_type": "code",
   "execution_count": 61,
   "id": "d2a83993-3c75-499a-b3a0-bcc7fa73b062",
   "metadata": {},
   "outputs": [
    {
     "data": {
      "image/png": "[encoded data removed]",
      "text/plain": [
       "<Figure size 432x288 with 2 Axes>"
      ]
     },
     "metadata": {
      "needs_background": "light"
     },
     "output_type": "display_data"
    }
   ],
   "source": [
    "DisplayConfusionMatrix(y_test, y_pred)"
   ]
  },
  {
   "cell_type": "code",
   "execution_count": 62,
   "id": "ba338de4-7d98-4a45-af3e-097782a7a659",
   "metadata": {},
   "outputs": [],
   "source": [
    "kn = KNeighborsClassifier()\n",
    "model = kn.fit(xtrain, y_train)\n",
    "y_pred = model.predict(xtest)"
   ]
  },
  {
   "cell_type": "code",
   "execution_count": 63,
   "id": "7e73fbec-b0e5-417a-b1a5-4c21f9a8dba9",
   "metadata": {},
   "outputs": [
    {
     "name": "stdout",
     "output_type": "stream",
     "text": [
      "Training accuracy 0.8306\n",
      "Testing accuracy 0.5057\n"
     ]
    }
   ],
   "source": [
    "print('Training accuracy {:.4f}'.format(model.score(xtrain, y_train)))\n",
    "print('Testing accuracy {:.4f}'.format(model.score(xtest, y_test)))"
   ]
  },
  {
   "cell_type": "code",
   "execution_count": 64,
   "id": "daab79c3-46c0-4f49-85f9-05acd68e2b98",
   "metadata": {},
   "outputs": [
    {
     "name": "stdout",
     "output_type": "stream",
     "text": [
      "              precision    recall  f1-score   support\n",
      "\n",
      "           0       0.50      0.60      0.55     48914\n",
      "           1       0.51      0.42      0.46     48914\n",
      "\n",
      "    accuracy                           0.51     97828\n",
      "   macro avg       0.51      0.51      0.50     97828\n",
      "weighted avg       0.51      0.51      0.50     97828\n",
      "\n"
     ]
    }
   ],
   "source": [
    "print(classification_report(y_test, y_pred))"
   ]
  },
  {
   "cell_type": "code",
   "execution_count": 65,
   "id": "04d47883-0c92-4aa6-84f6-108a977e1b61",
   "metadata": {},
   "outputs": [
    {
     "data": {
      "image/png": "[encoded data removed]",
      "text/plain": [
       "<Figure size 432x288 with 2 Axes>"
      ]
     },
     "metadata": {
      "needs_background": "light"
     },
     "output_type": "display_data"
    }
   ],
   "source": [
    "DisplayConfusionMatrix(y_test, y_pred)"
   ]
  },
  {
   "cell_type": "code",
   "execution_count": 66,
   "id": "cd06e137-cdd9-4c20-b90e-11ad118c8957",
   "metadata": {},
   "outputs": [],
   "source": [
    "dt = DecisionTreeClassifier()\n",
    "model = dt.fit(xtrain, y_train)\n",
    "y_pred = model.predict(xtest)"
   ]
  },
  {
   "cell_type": "code",
   "execution_count": 67,
   "id": "445b6723-7f79-4b58-a3aa-66a661ef8450",
   "metadata": {},
   "outputs": [
    {
     "name": "stdout",
     "output_type": "stream",
     "text": [
      "Training accuracy 1.0000\n",
      "Testing accuracy 0.7726\n"
     ]
    }
   ],
   "source": [
    "print('Training accuracy {:.4f}'.format(model.score(xtrain, y_train)))\n",
    "print('Testing accuracy {:.4f}'.format(model.score(xtest, y_test)))"
   ]
  },
  {
   "cell_type": "code",
   "execution_count": 68,
   "id": "f7f647bc-a73e-418d-9d89-01dfec001aa5",
   "metadata": {},
   "outputs": [
    {
     "name": "stdout",
     "output_type": "stream",
     "text": [
      "              precision    recall  f1-score   support\n",
      "\n",
      "           0       0.77      0.78      0.77     48914\n",
      "           1       0.78      0.77      0.77     48914\n",
      "\n",
      "    accuracy                           0.77     97828\n",
      "   macro avg       0.77      0.77      0.77     97828\n",
      "weighted avg       0.77      0.77      0.77     97828\n",
      "\n"
     ]
    }
   ],
   "source": [
    "print(classification_report(y_test, y_pred))"
   ]
  },
  {
   "cell_type": "code",
   "execution_count": 69,
   "id": "f2303c2c-fdcc-4805-8495-d477cc773709",
   "metadata": {},
   "outputs": [
    {
     "data": {
      "image/png": "[encoded data removed]",
      "text/plain": [
       "<Figure size 432x288 with 2 Axes>"
      ]
     },
     "metadata": {
      "needs_background": "light"
     },
     "output_type": "display_data"
    }
   ],
   "source": [
    "DisplayConfusionMatrix(y_test, y_pred)"
   ]
  },
  {
   "cell_type": "code",
   "execution_count": 70,
   "id": "2e4eb05a-67ed-41b3-933d-8cd054ef0b80",
   "metadata": {},
   "outputs": [],
   "source": [
    "lgbm = LGBMClassifier()\n",
    "model = lgbm.fit(xtrain, y_train)\n",
    "y_pred = model.predict(xtest)"
   ]
  },
  {
   "cell_type": "code",
   "execution_count": 71,
   "id": "13d71a5b-2153-44b9-b371-0cecdb40ef5b",
   "metadata": {},
   "outputs": [
    {
     "name": "stdout",
     "output_type": "stream",
     "text": [
      "Training accuracy 0.8822\n",
      "Testing accuracy 0.8795\n"
     ]
    }
   ],
   "source": [
    "print('Training accuracy {:.4f}'.format(model.score(xtrain, y_train)))\n",
    "print('Testing accuracy {:.4f}'.format(model.score(xtest, y_test)))"
   ]
  },
  {
   "cell_type": "code",
   "execution_count": 72,
   "id": "73487c24-9e08-4c86-9fdd-4659b767b52b",
   "metadata": {},
   "outputs": [
    {
     "name": "stdout",
     "output_type": "stream",
     "text": [
      "              precision    recall  f1-score   support\n",
      "\n",
      "           0       0.81      0.99      0.89     48914\n",
      "           1       0.99      0.77      0.86     48914\n",
      "\n",
      "    accuracy                           0.88     97828\n",
      "   macro avg       0.90      0.88      0.88     97828\n",
      "weighted avg       0.90      0.88      0.88     97828\n",
      "\n"
     ]
    }
   ],
   "source": [
    "print(classification_report(y_test, y_pred))"
   ]
  },
  {
   "cell_type": "code",
   "execution_count": 73,
   "id": "a283b55f-1646-400e-b831-03f343a235b3",
   "metadata": {},
   "outputs": [
    {
     "data": {
      "image/png": "[encoded data removed]",
      "text/plain": [
       "<Figure size 432x288 with 2 Axes>"
      ]
     },
     "metadata": {
      "needs_background": "light"
     },
     "output_type": "display_data"
    }
   ],
   "source": [
    "DisplayConfusionMatrix(y_test, y_pred)"
   ]
  },
  {
   "cell_type": "code",
   "execution_count": 74,
   "id": "4902ab2b-9f85-4c72-9bd9-2c6a870e4b6c",
   "metadata": {},
   "outputs": [],
   "source": [
    "xgc = XGBClassifier()\n",
    "model = xgc.fit(xtrain, y_train)\n",
    "y_pred = model.predict(xtest)"
   ]
  },
  {
   "cell_type": "code",
   "execution_count": 75,
   "id": "a345fbc3-b189-485d-871d-03a34d81bda2",
   "metadata": {},
   "outputs": [
    {
     "name": "stdout",
     "output_type": "stream",
     "text": [
      "Training accuracy 0.8841\n",
      "Testing accuracy 0.8742\n"
     ]
    }
   ],
   "source": [
    "print('Training accuracy {:.4f}'.format(model.score(xtrain, y_train)))\n",
    "print('Testing accuracy {:.4f}'.format(model.score(xtest, y_test)))"
   ]
  },
  {
   "cell_type": "code",
   "execution_count": 76,
   "id": "b99f5723-7fb0-48b8-8a5d-47f2c14eed28",
   "metadata": {},
   "outputs": [
    {
     "name": "stdout",
     "output_type": "stream",
     "text": [
      "              precision    recall  f1-score   support\n",
      "\n",
      "           0       0.81      0.98      0.89     48914\n",
      "           1       0.97      0.77      0.86     48914\n",
      "\n",
      "    accuracy                           0.87     97828\n",
      "   macro avg       0.89      0.87      0.87     97828\n",
      "weighted avg       0.89      0.87      0.87     97828\n",
      "\n"
     ]
    }
   ],
   "source": [
    "print(classification_report(y_test, y_pred))"
   ]
  },
  {
   "cell_type": "code",
   "execution_count": 77,
   "id": "0850aab9-284e-465f-ace7-e0d90aee6707",
   "metadata": {
    "scrolled": false
   },
   "outputs": [
    {
     "data": {
      "image/png": "[encoded data removed]",
      "text/plain": [
       "<Figure size 432x288 with 2 Axes>"
      ]
     },
     "metadata": {
      "needs_background": "light"
     },
     "output_type": "display_data"
    }
   ],
   "source": [
    "DisplayConfusionMatrix(y_test, y_pred)"
   ]
  },
  {
   "cell_type": "markdown",
   "id": "b3124028",
   "metadata": {},
   "source": [
    "### * We can see that top 3 models which were derived from these ensemble techniques there is no significant improvement hence we will do hyper-parameter tuning to get better insisghts from the data."
   ]
  }
 ],
 "metadata": {
  "kernelspec": {
   "display_name": "Python 3 (ipykernel)",
   "language": "python",
   "name": "python3"
  },
  "language_info": {
   "codemirror_mode": {
    "name": "ipython",
    "version": 3
   },
   "file_extension": ".py",
   "mimetype": "text/x-python",
   "name": "python",
   "nbconvert_exporter": "python",
   "pygments_lexer": "ipython3",
   "version": "3.9.7"
  }
 },
 "nbformat": 4,
 "nbformat_minor": 5
}
